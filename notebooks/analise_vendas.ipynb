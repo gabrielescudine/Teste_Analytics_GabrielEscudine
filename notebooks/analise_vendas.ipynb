{
 "cells": [
  {
   "cell_type": "markdown",
   "id": "9bc0ab45",
   "metadata": {},
   "source": [
    "# Notebook - Análise de Vendas\n",
    "\n",
    "Este notebook dá continuidade ao processo iniciado nos scripts:\n",
    "\n",
    "- `src/generate_dataset.py` > Geração de dados sintéticos de vendas  ;\n",
    "- `src/clean_dataset.py` > Limpeza básica do dataset  ;\n",
    "\n",
    "## Objetivos neste notebook:\n",
    "1. Calcular o **total de vendas** por produto;\n",
    "2. Identificar o **produto com maior número de vendas totais**;\n",
    "3. Realizar **análises exploratórias**;\n",
    "4. Criar **visualizações gráficas** para identificar padrões.\n",
    "\n",
    "Ao final, serão apresentados **insights** extraídos dos dados que podem apoiar a tomada de decisão."
   ]
  },
  {
   "cell_type": "markdown",
   "id": "4c1766cc",
   "metadata": {},
   "source": [
    "## Importações Necessárias & Configs. Básicas"
   ]
  },
  {
   "cell_type": "code",
   "execution_count": null,
   "id": "90613f5f",
   "metadata": {},
   "outputs": [],
   "source": [
    "import pandas as pd\n",
    "import matplotlib.pyplot as plt\n",
    "import seaborn as sns"
   ]
  },
  {
   "cell_type": "code",
   "execution_count": null,
   "id": "d7aaa592",
   "metadata": {},
   "outputs": [],
   "source": [
    "# Configurações para exibir todas as colunas e linhas dos DataFrames\n",
    "\n",
    "pd.set_option('display.max_columns', None)\n",
    "pd.set_option('display.max_rows', None)\n",
    "pd.set_option('display.width', 1000)"
   ]
  },
  {
   "cell_type": "code",
   "execution_count": null,
   "id": "4209bf62",
   "metadata": {},
   "outputs": [],
   "source": [
    "# Carregando o dataset limpo\n",
    "\n",
    "data_clean = pd.read_csv('../data/data_clean.csv')\n",
    "data_clean['Data'] = pd.to_datetime(data_clean['Data'])\n",
    "data_clean = data_clean.set_index('Data').sort_index(ascending=True)"
   ]
  },
  {
   "cell_type": "markdown",
   "id": "3ae1cf37",
   "metadata": {},
   "source": [
    "## Análises Iniciais do Dataset"
   ]
  },
  {
   "cell_type": "code",
   "execution_count": null,
   "id": "e694561d",
   "metadata": {},
   "outputs": [],
   "source": [
    "# Visualização inicial dos dados\n",
    "\n",
    "data_clean.head()"
   ]
  },
  {
   "cell_type": "code",
   "execution_count": null,
   "id": "4b66f91e",
   "metadata": {},
   "outputs": [],
   "source": [
    "data_clean.tail()"
   ]
  },
  {
   "cell_type": "code",
   "execution_count": null,
   "id": "62d43ee4",
   "metadata": {},
   "outputs": [],
   "source": [
    "# Informações sobre o DataFrame\n",
    "\n",
    "print(\"Dataset Shape:\", data_clean.shape)\n",
    "print(data_clean.info())\n",
    "print(\"\\nDataset Description:\\n\", data_clean.describe())\n",
    "print(\"\\nMissing Values in Each Column:\\n\", data_clean.isnull().sum())\n"
   ]
  },
  {
   "cell_type": "markdown",
   "id": "085d67fb",
   "metadata": {},
   "source": [
    "## Criando a coluna \"Total_Venda\"\n",
    "- Total_Venda = Quantidade x Preço Unitário"
   ]
  },
  {
   "cell_type": "code",
   "execution_count": null,
   "id": "5c18959a",
   "metadata": {},
   "outputs": [],
   "source": [
    "# Criando a coluna \"Total_Venda\", que é o produto da quantidade vendida pelo preço unitário\n",
    "\n",
    "data_clean['Total_Venda'] = data_clean['Quantidade'] * data_clean['Preco_Unitario']\n",
    "\n",
    "# Visualizando as primeiras linhas do DataFrame atualizado\n",
    "data_clean.head()"
   ]
  },
  {
   "cell_type": "markdown",
   "id": "73688138",
   "metadata": {},
   "source": [
    "### Agrupando as Colunas por \"Total_Venda\""
   ]
  },
  {
   "cell_type": "code",
   "execution_count": null,
   "id": "32869451",
   "metadata": {},
   "outputs": [],
   "source": [
    "# Groupby \"Produto\" e somando \"Total_Venda\" para cada produto\n",
    "\n",
    "vendas_per_produto = pd.DataFrame(data_clean.groupby('Produto')['Total_Venda'].sum().sort_values(ascending=False))\n",
    "print(\"Venda Total por Produto:\")\n",
    "display(vendas_per_produto)"
   ]
  },
  {
   "cell_type": "markdown",
   "id": "4669364c",
   "metadata": {},
   "source": [
    "Com base na tabela acima, podemos ver que o produto mais vendido é a Geladeira."
   ]
  },
  {
   "cell_type": "markdown",
   "id": "d22fa1fd",
   "metadata": {},
   "source": [
    "## Identificando Sazonalidades através do Gráfico de Linha"
   ]
  },
  {
   "cell_type": "code",
   "execution_count": null,
   "id": "a6fc1fc5",
   "metadata": {},
   "outputs": [],
   "source": [
    "# Vendas Mensais\n",
    "vendas_mensais = data_clean.resample(\"ME\")[\"Total_Venda\"].sum()\n",
    "\n",
    "plt.figure(figsize=(12, 6))\n",
    "sns.lineplot(x=vendas_mensais.index, y=vendas_mensais.values, marker='o')\n",
    "plt.title(\"Tendências de Vendas Mensais em 2023\")\n",
    "plt.xlabel(\"Mês\")\n",
    "plt.ylabel(\"Total de Vendas (R$)\")\n",
    "plt.xticks(rotation=45)\n",
    "plt.grid(True)\n",
    "plt.show()"
   ]
  },
  {
   "cell_type": "markdown",
   "id": "85a31fa9",
   "metadata": {},
   "source": [
    "Com base no gráfico acima, vemos que há uma clara sazonalidade, com picos e vales bem definidos ao longo do ano, que podem ser correlacionados a eventos do calendário e ao comportamento do mercado brasileiro.\n",
    "\n",
    "#### Períodos de Alta:\n",
    "- Pico de Final de Ano (Dez/Jan): O ponto mais alto de vendas ocorre em Janeiro, culminando o período de maior consumo do ano. Este pico é impulsionado pelas festas de fim de ano, recebimento do 13º salário e as promoções que se estendem desde a Black Friday.\n",
    "- Pico de Meio de Ano (Junho): Um segundo pico significativo é observado em Junho. Este aumento é atribuído a datas como o dia dos namorados e as festas juninas, além da possível antecipação de compras para as férias escolares de Julho.\n",
    "- Pico Pós-Carnaval (Março): Após uma baixa, as vendas se recuperam em Março. Este pode ser um reflexo do início do ano para o varejo após o Carnaval. Nesse mês, também há o dia do consumidor e, normalmente, são lançadas novas coleções.\n",
    "\n",
    "#### Períodos de Baixa:\n",
    "- Baixas Pós-Festas (Fevereiro): O mês de Fevereiro registra uma das quedas mais baixas. Isso se explica por ser um mês mais curto, pela concentração de gastos no Carnaval (muitas vezes somente em serviços) e por um período de reestruturação financeira após as despesas de fim de ano.\n",
    "- Baixas Pós-Férias (Setembro): Uma forte queda nas vendas ocorre entre Agosto e Setembro. A principal hipótese é o fim do período de férias escolares, levando a uma redução nos gastos com lazer e a uma recomposição financeira para o restante do ano."
   ]
  },
  {
   "cell_type": "code",
   "execution_count": null,
   "id": "6468b53c",
   "metadata": {},
   "outputs": [],
   "source": [
    "# Plotando com a média móvel de 3 meses para suavizar a série temporal \n",
    "# e identificar tendências com maior facilidade.\n",
    "\n",
    "plt.figure(figsize=(12, 6))\n",
    "sns.lineplot(x=vendas_mensais.index, y=vendas_mensais.values, marker=\"o\", label=\"Vendas Mensais\")\n",
    "\n",
    "media_movel = vendas_mensais.rolling(window=3).mean()\n",
    "sns.lineplot(x=media_movel.index, y=media_movel.values, color=\"red\", linewidth=2, label=\"Média Móvel (3 meses)\")\n",
    "\n",
    "plt.title(\"Tendências de Vendas Mensais em 2023\")\n",
    "plt.xlabel(\"Mês\")\n",
    "plt.ylabel(\"Total de Vendas (R$)\")\n",
    "plt.legend()\n",
    "plt.xticks(rotation=45)\n",
    "plt.tight_layout()\n",
    "plt.grid(True)\n",
    "plt.show()"
   ]
  },
  {
   "cell_type": "markdown",
   "id": "ec496057",
   "metadata": {},
   "source": [
    "Como não ficou muito claro somente com as linhas do gráfico, inclui uma média móvel, que é capaz de suavizar flutuações pontuais e trazer mais insights para a análise, mostrando uma tendência mais clara de faturamento ao longo do ano.\n",
    "\n",
    "#### Tendências de Crescimento:\n",
    "- Apesar da queda em Abril, a média móvel projeta uma trajetória ascendente até Julho. Apesar da volatilidade mês a mês, a tendência é de crescimento no primeiro semestre.\n",
    "- Em Outubro, há uma queda da média móvel, que é reflexo das baixas do início do segundo semestre. No entanto, a partir desse mês, a média móvel inicia uma trajetória de subida, que é em resposta ao fim de ano, dado que há um claro aumento de vendas nesse período, como mencionado anteriormente."
   ]
  }
 ],
 "metadata": {
  "kernelspec": {
   "display_name": "venv",
   "language": "python",
   "name": "python3"
  },
  "language_info": {
   "codemirror_mode": {
    "name": "ipython",
    "version": 3
   },
   "file_extension": ".py",
   "mimetype": "text/x-python",
   "name": "python",
   "nbconvert_exporter": "python",
   "pygments_lexer": "ipython3",
   "version": "3.13.2"
  }
 },
 "nbformat": 4,
 "nbformat_minor": 5
}
